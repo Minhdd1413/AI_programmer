{
 "cells": [
  {
   "cell_type": "markdown",
   "metadata": {},
   "source": [
    "#### Dictionary"
   ]
  },
  {
   "cell_type": "markdown",
   "metadata": {},
   "source": [
    "Câu 1)"
   ]
  },
  {
   "cell_type": "code",
   "execution_count": 1,
   "metadata": {},
   "outputs": [],
   "source": [
    "def solve1():\n",
    "    num_set = set(range(100))\n",
    "    print(num_set)"
   ]
  },
  {
   "cell_type": "code",
   "execution_count": 2,
   "metadata": {},
   "outputs": [
    {
     "name": "stdout",
     "output_type": "stream",
     "text": [
      "{0, 1, 2, 3, 4, 5, 6, 7, 8, 9, 10, 11, 12, 13, 14, 15, 16, 17, 18, 19, 20, 21, 22, 23, 24, 25, 26, 27, 28, 29, 30, 31, 32, 33, 34, 35, 36, 37, 38, 39, 40, 41, 42, 43, 44, 45, 46, 47, 48, 49, 50, 51, 52, 53, 54, 55, 56, 57, 58, 59, 60, 61, 62, 63, 64, 65, 66, 67, 68, 69, 70, 71, 72, 73, 74, 75, 76, 77, 78, 79, 80, 81, 82, 83, 84, 85, 86, 87, 88, 89, 90, 91, 92, 93, 94, 95, 96, 97, 98, 99}\n"
     ]
    }
   ],
   "source": [
    "solve1()"
   ]
  },
  {
   "cell_type": "markdown",
   "metadata": {},
   "source": [
    "Câu 2)"
   ]
  },
  {
   "cell_type": "code",
   "execution_count": 18,
   "metadata": {},
   "outputs": [],
   "source": [
    "def solve2():\n",
    "    num_set = set()\n",
    "    for i in range(199):\n",
    "        if i % 2 == 1:\n",
    "            num_set.add(i)\n",
    "    print(num_set)"
   ]
  },
  {
   "cell_type": "code",
   "execution_count": 19,
   "metadata": {},
   "outputs": [
    {
     "name": "stdout",
     "output_type": "stream",
     "text": [
      "{1, 3, 5, 7, 9, 11, 13, 15, 17, 19, 21, 23, 25, 27, 29, 31, 33, 35, 37, 39, 41, 43, 45, 47, 49, 51, 53, 55, 57, 59, 61, 63, 65, 67, 69, 71, 73, 75, 77, 79, 81, 83, 85, 87, 89, 91, 93, 95, 97, 99, 101, 103, 105, 107, 109, 111, 113, 115, 117, 119, 121, 123, 125, 127, 129, 131, 133, 135, 137, 139, 141, 143, 145, 147, 149, 151, 153, 155, 157, 159, 161, 163, 165, 167, 169, 171, 173, 175, 177, 179, 181, 183, 185, 187, 189, 191, 193, 195, 197}\n"
     ]
    }
   ],
   "source": [
    "solve2()"
   ]
  },
  {
   "cell_type": "markdown",
   "metadata": {},
   "source": [
    "Câu 3)"
   ]
  },
  {
   "cell_type": "code",
   "execution_count": 40,
   "metadata": {},
   "outputs": [],
   "source": [
    "def solve3():\n",
    "    num = input(\"Enter a number: \").split()\n",
    "    num = [int(i) for i in num]\n",
    "    num = set(num)\n",
    "    print(num)\n",
    "    print(\"Giá trị lớn nhất: \", max(num))\n",
    "    print(\"Giá trị nhỏ nhất: \", min(num))"
   ]
  },
  {
   "cell_type": "code",
   "execution_count": 41,
   "metadata": {},
   "outputs": [
    {
     "name": "stdout",
     "output_type": "stream",
     "text": [
      "{8872, 82, 828, 2837}\n",
      "Giá trị lớn nhất:  8872\n",
      "Giá trị nhỏ nhất:  82\n"
     ]
    }
   ],
   "source": [
    "solve3()"
   ]
  },
  {
   "cell_type": "markdown",
   "metadata": {},
   "source": [
    "Câu 4)"
   ]
  },
  {
   "cell_type": "code",
   "execution_count": null,
   "metadata": {},
   "outputs": [],
   "source": []
  },
  {
   "cell_type": "markdown",
   "metadata": {},
   "source": [
    "Câu 5)"
   ]
  },
  {
   "cell_type": "code",
   "execution_count": null,
   "metadata": {},
   "outputs": [],
   "source": []
  },
  {
   "cell_type": "markdown",
   "metadata": {},
   "source": [
    "Câu 6)"
   ]
  },
  {
   "cell_type": "code",
   "execution_count": null,
   "metadata": {},
   "outputs": [],
   "source": []
  },
  {
   "cell_type": "markdown",
   "metadata": {},
   "source": [
    "Câu 7)"
   ]
  },
  {
   "cell_type": "code",
   "execution_count": null,
   "metadata": {},
   "outputs": [],
   "source": []
  },
  {
   "cell_type": "markdown",
   "metadata": {},
   "source": [
    "Câu 8)"
   ]
  },
  {
   "cell_type": "code",
   "execution_count": null,
   "metadata": {},
   "outputs": [],
   "source": []
  },
  {
   "cell_type": "markdown",
   "metadata": {},
   "source": [
    "Câu 9)"
   ]
  },
  {
   "cell_type": "code",
   "execution_count": null,
   "metadata": {},
   "outputs": [],
   "source": []
  },
  {
   "cell_type": "markdown",
   "metadata": {},
   "source": [
    "#### Module"
   ]
  },
  {
   "cell_type": "markdown",
   "metadata": {},
   "source": [
    "Câu 1)"
   ]
  },
  {
   "cell_type": "code",
   "execution_count": null,
   "metadata": {},
   "outputs": [],
   "source": [
    "# đề khó hiểu"
   ]
  },
  {
   "cell_type": "markdown",
   "metadata": {},
   "source": [
    "Câu 2)"
   ]
  },
  {
   "cell_type": "code",
   "execution_count": 82,
   "metadata": {},
   "outputs": [],
   "source": [
    "def solve2():\n",
    "    D = {(input(\"Nhập các phần tử: \"))}\n",
    "    print(D.unique())"
   ]
  },
  {
   "cell_type": "code",
   "execution_count": null,
   "metadata": {},
   "outputs": [],
   "source": [
    "D = {1: 2, 3: 4, 5: 6, 7: 8}"
   ]
  },
  {
   "cell_type": "code",
   "execution_count": 83,
   "metadata": {},
   "outputs": [
    {
     "ename": "AttributeError",
     "evalue": "'set' object has no attribute 'unique'",
     "output_type": "error",
     "traceback": [
      "\u001b[1;31m---------------------------------------------------------------------------\u001b[0m",
      "\u001b[1;31mAttributeError\u001b[0m                            Traceback (most recent call last)",
      "\u001b[1;32m~\\AppData\\Local\\Temp\\ipykernel_21832\\368605676.py\u001b[0m in \u001b[0;36m<module>\u001b[1;34m\u001b[0m\n\u001b[1;32m----> 1\u001b[1;33m \u001b[0msolve2\u001b[0m\u001b[1;33m(\u001b[0m\u001b[1;33m)\u001b[0m\u001b[1;33m\u001b[0m\u001b[1;33m\u001b[0m\u001b[0m\n\u001b[0m",
      "\u001b[1;32m~\\AppData\\Local\\Temp\\ipykernel_21832\\1487432044.py\u001b[0m in \u001b[0;36msolve2\u001b[1;34m()\u001b[0m\n\u001b[0;32m      1\u001b[0m \u001b[1;32mdef\u001b[0m \u001b[0msolve2\u001b[0m\u001b[1;33m(\u001b[0m\u001b[1;33m)\u001b[0m\u001b[1;33m:\u001b[0m\u001b[1;33m\u001b[0m\u001b[1;33m\u001b[0m\u001b[0m\n\u001b[0;32m      2\u001b[0m     \u001b[0mD\u001b[0m \u001b[1;33m=\u001b[0m \u001b[1;33m{\u001b[0m\u001b[1;33m(\u001b[0m\u001b[0minput\u001b[0m\u001b[1;33m(\u001b[0m\u001b[1;34m\"Nhập các phần tử: \"\u001b[0m\u001b[1;33m)\u001b[0m\u001b[1;33m)\u001b[0m\u001b[1;33m}\u001b[0m\u001b[1;33m\u001b[0m\u001b[1;33m\u001b[0m\u001b[0m\n\u001b[1;32m----> 3\u001b[1;33m     \u001b[0mprint\u001b[0m\u001b[1;33m(\u001b[0m\u001b[0mD\u001b[0m\u001b[1;33m.\u001b[0m\u001b[0munique\u001b[0m\u001b[1;33m(\u001b[0m\u001b[1;33m)\u001b[0m\u001b[1;33m)\u001b[0m\u001b[1;33m\u001b[0m\u001b[1;33m\u001b[0m\u001b[0m\n\u001b[0m",
      "\u001b[1;31mAttributeError\u001b[0m: 'set' object has no attribute 'unique'"
     ]
    }
   ],
   "source": [
    "solve2()"
   ]
  },
  {
   "cell_type": "markdown",
   "metadata": {},
   "source": [
    "Câu 3)"
   ]
  },
  {
   "cell_type": "code",
   "execution_count": null,
   "metadata": {},
   "outputs": [],
   "source": []
  },
  {
   "cell_type": "markdown",
   "metadata": {},
   "source": [
    "Câu 4)"
   ]
  },
  {
   "cell_type": "code",
   "execution_count": null,
   "metadata": {},
   "outputs": [],
   "source": []
  },
  {
   "cell_type": "markdown",
   "metadata": {},
   "source": [
    "Câu 5)"
   ]
  },
  {
   "cell_type": "code",
   "execution_count": null,
   "metadata": {},
   "outputs": [],
   "source": []
  },
  {
   "cell_type": "markdown",
   "metadata": {},
   "source": [
    "Câu 6)"
   ]
  },
  {
   "cell_type": "code",
   "execution_count": null,
   "metadata": {},
   "outputs": [],
   "source": []
  },
  {
   "cell_type": "markdown",
   "metadata": {},
   "source": [
    "#### Exception"
   ]
  },
  {
   "cell_type": "markdown",
   "metadata": {},
   "source": [
    "Câu 1)"
   ]
  },
  {
   "cell_type": "code",
   "execution_count": 144,
   "metadata": {},
   "outputs": [],
   "source": [
    "def solve1():\n",
    "    while True:\n",
    "        try:    \n",
    "            a, b = (input(\"Nhập số: \")).split()\n",
    "            a, b = int(a), int(b)\n",
    "            divine = a/b\n",
    "            \n",
    "        except ValueError:\n",
    "            print('Nhập sai, người dùng hãy nhập lại!')\n",
    "\n",
    "        except TypeError:\n",
    "            print('Nhập sai, người dùng hãy nhập lại!')\n",
    "            \n",
    "        except ZeroDivisionError:\n",
    "            print('b = 0 không chia được, người dùng hãy nhập lại!')\n",
    "        \n",
    "        else:\n",
    "            break\n",
    "            \n",
    "    print(divine)"
   ]
  },
  {
   "cell_type": "code",
   "execution_count": 145,
   "metadata": {},
   "outputs": [
    {
     "name": "stdout",
     "output_type": "stream",
     "text": [
      "Nhập sai, người dùng hãy nhập lại!\n",
      "Nhập sai, người dùng hãy nhập lại!\n",
      "b = 0 không chia được, người dùng hãy nhập lại!\n",
      "1.0\n"
     ]
    }
   ],
   "source": [
    "solve1()"
   ]
  },
  {
   "cell_type": "markdown",
   "metadata": {},
   "source": [
    "Câu 2)"
   ]
  },
  {
   "cell_type": "code",
   "execution_count": 140,
   "metadata": {},
   "outputs": [],
   "source": [
    "import math\n",
    "\n",
    "def solve2():\n",
    "    while True:\n",
    "        try:\n",
    "            # vừa nhập vừa tạo lỗi\n",
    "            a = float(input(\"Nhập a: \")) \n",
    "            temp = math.sqrt(a)\n",
    "            b = float(input(\"Nhập b: \")) \n",
    "            temp = math.sqrt(b)\n",
    "            c = float(input(\"Nhập c: \")) \n",
    "            temp = math.sqrt(c)\n",
    "            \n",
    "            temp = a/b\n",
    "            temp = b/c\n",
    "            temp = c/a\n",
    "            \n",
    "            p = (a + b + c) / 2\n",
    "            S = (p*(p-a)*(p-b)*(p-c))**0.5\n",
    "            temp = float(S)\n",
    "            \n",
    "        except TypeError:\n",
    "            print('Nhập sai hoặc 3 cạnh tam giác không tồn tại, người dùng hãy nhập lại!')\n",
    "            \n",
    "        except ValueError:\n",
    "            print('Số vừa nhập không phải số nguyên dương, người dùng hãy nhập lại!')\n",
    "        \n",
    "        except ZeroDivisionError:\n",
    "            print('b = 0 không chia được, người dùng hãy nhập lại!')\n",
    "        \n",
    "        else:\n",
    "            break\n",
    "    print(f'Ba cạnh tam giác vừa nhập: [{a}, {b}, {c}]')"
   ]
  },
  {
   "cell_type": "code",
   "execution_count": 141,
   "metadata": {},
   "outputs": [
    {
     "name": "stdout",
     "output_type": "stream",
     "text": [
      "Nhập sai hoặc 3 cạnh tam giác không tồn tại, người dùng hãy nhập lại!\n",
      "b = 0 không chia được, người dùng hãy nhập lại!\n",
      "Ba cạnh tam giác vừa nhập: [2.0, 3.0, 4.0]\n"
     ]
    }
   ],
   "source": [
    "solve2()"
   ]
  },
  {
   "cell_type": "markdown",
   "metadata": {},
   "source": [
    "Câu 3)"
   ]
  },
  {
   "cell_type": "code",
   "execution_count": 278,
   "metadata": {},
   "outputs": [],
   "source": [
    "def solve3():\n",
    "    arr = []\n",
    "    total_count1 = 0\n",
    "    total_count2 = 0\n",
    "    global a\n",
    "    while True:\n",
    "        try:\n",
    "            a = int(input(\"Nhập a: \"))\n",
    "\n",
    "            if a == 0:\n",
    "                break\n",
    "            \n",
    "            elif arr == []:\n",
    "                temp = a\n",
    "                \n",
    "            # sinh lỗi           \n",
    "            elif a < 0:\n",
    "                raise Exception(\"Lỗi số âm\")\n",
    "            \n",
    "            # lưu biến\n",
    "            arr.append(a)\n",
    "            \n",
    "            if a % 2 == 0:\n",
    "                total_count1 += 1  \n",
    "                \n",
    "            else:\n",
    "                total_count1 = 1     \n",
    "\n",
    "            if temp == a:\n",
    "                total_count2 += 1  \n",
    "                \n",
    "            else:\n",
    "                total_count2 = 1\n",
    "\n",
    "            if total_count2 > 3:\n",
    "                total_count1 -= 1\n",
    "                total_count2 -= 1\n",
    "                arr.pop()\n",
    "                raise Exception('Lỗi nhập lặp')\n",
    "            \n",
    "            elif total_count1 > 4:\n",
    "                total_count1 -= 1\n",
    "                total_count2 -= 1\n",
    "                arr.pop()\n",
    "                raise Exception('Lỗi nhập chẵn')\n",
    "            \n",
    "        except ValueError:\n",
    "            print('Lỗi nhập số')\n",
    "            \n",
    "        except Exception as e:\n",
    "            print(e)\n",
    "        \n",
    "        finally:\n",
    "            temp = a\n",
    "            \n",
    "    return arr "
   ]
  },
  {
   "cell_type": "code",
   "execution_count": 279,
   "metadata": {},
   "outputs": [
    {
     "name": "stdout",
     "output_type": "stream",
     "text": [
      "Lỗi nhập số\n",
      "Lỗi nhập số\n",
      "Lỗi nhập số\n",
      "Lỗi số âm\n",
      "Lỗi số âm\n",
      "Lỗi nhập số\n",
      "Lỗi nhập lặp\n",
      "Lỗi nhập lặp\n",
      "Lỗi nhập lặp\n",
      "Lỗi nhập chẵn\n",
      "Lỗi nhập chẵn\n",
      "Lỗi nhập lặp\n"
     ]
    },
    {
     "data": {
      "text/plain": [
       "[2, 4, 4, 4, 5, 5, 5, 6, 6, 6, 4, 3, 23, 23, 23]"
      ]
     },
     "execution_count": 279,
     "metadata": {},
     "output_type": "execute_result"
    }
   ],
   "source": [
    "solve3()"
   ]
  }
 ],
 "metadata": {
  "kernelspec": {
   "display_name": "Python 3",
   "language": "python",
   "name": "python3"
  },
  "language_info": {
   "codemirror_mode": {
    "name": "ipython",
    "version": 3
   },
   "file_extension": ".py",
   "mimetype": "text/x-python",
   "name": "python",
   "nbconvert_exporter": "python",
   "pygments_lexer": "ipython3",
   "version": "3.7.2"
  }
 },
 "nbformat": 4,
 "nbformat_minor": 2
}
