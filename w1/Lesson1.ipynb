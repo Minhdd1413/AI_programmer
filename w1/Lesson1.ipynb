{
  "cells": [
    {
      "cell_type": "code",
      "execution_count": null,
      "metadata": {
        "colab": {
          "base_uri": "https://localhost:8080/"
        },
        "id": "B5kBylj_zWAC",
        "outputId": "783449fe-95ee-4432-e412-00492d9e2321"
      },
      "outputs": [
        {
          "name": "stdout",
          "output_type": "stream",
          "text": [
            "Tên: Minh\n",
            "Xin chào Minh!\n",
            "Tuổi: 21\n",
            "Bạn Minh năm nay 21 tuổi!\n"
          ]
        }
      ],
      "source": [
        "def nhap_ten_va_in():\n",
        "  ten = input(\"Tên: \")\n",
        "  print(\"Xin chào \" + ten + \"!\")\n",
        "  age = int(input(\"Tuổi: \"))\n",
        "  print(\"Bạn \" + ten + ' năm nay ' + str(age) + \" tuổi!\")\n",
        "\n",
        "nhap_ten_va_in()"
      ]
    },
    {
      "cell_type": "markdown",
      "metadata": {
        "id": "I2HNNIwDEdwa"
      },
      "source": [
        "Câu 2"
      ]
    },
    {
      "cell_type": "code",
      "execution_count": null,
      "metadata": {
        "colab": {
          "base_uri": "https://localhost:8080/"
        },
        "id": "pUqYzoc9EfOS",
        "outputId": "c6653fef-fd21-4066-9d69-f087493fc8f2"
      },
      "outputs": [
        {
          "name": "stdout",
          "output_type": "stream",
          "text": [
            "16444745.63565989\n"
          ]
        }
      ],
      "source": [
        "def tinh_tien_lai_ngan_hang(x, year, alpha):\n",
        "    if year == 0:\n",
        "        return x\n",
        "    else:\n",
        "        return tinh_tien_lai_ngan_hang(x * (1 + alpha), year - 1, alpha)\n",
        "\n",
        "print(tinh_tien_lai_ngan_hang(10000000, 10, 0.051))\n"
      ]
    },
    {
      "cell_type": "markdown",
      "metadata": {
        "id": "Aq5Ltmf3EhtK"
      },
      "source": [
        "Câu 3"
      ]
    },
    {
      "cell_type": "code",
      "execution_count": null,
      "metadata": {
        "colab": {
          "base_uri": "https://localhost:8080/"
        },
        "id": "dcXxyY7cEoWC",
        "outputId": "20a712d5-e2d1-4645-a4f8-54061d5b0a8b"
      },
      "outputs": [
        {
          "name": "stdout",
          "output_type": "stream",
          "text": [
            "Nhập số nguyên n: 77\n",
            "Hệ cơ số 16: 0x4d\n",
            "Hệ cơ số 8: 0o115\n",
            "Hệ cơ số 2: 0b1001101\n"
          ]
        }
      ],
      "source": [
        "def he_co_so():\n",
        "  n = int(input(\"Nhập số nguyên n: \"))\n",
        "  print(f\"Hệ cơ số 16: {hex(n)}\")\n",
        "  print(f\"Hệ cơ số 8: {oct(n)}\")\n",
        "  print(f\"Hệ cơ số 2: {bin(n)}\")\n",
        "\n",
        "he_co_so()"
      ]
    },
    {
      "cell_type": "markdown",
      "metadata": {
        "id": "BwlL_YRCEiHa"
      },
      "source": [
        "Câu 4"
      ]
    },
    {
      "cell_type": "code",
      "execution_count": null,
      "metadata": {
        "colab": {
          "base_uri": "https://localhost:8080/"
        },
        "id": "1jhhASPDEo2K",
        "outputId": "984bee84-39a1-4385-a606-cd79e6391a68"
      },
      "outputs": [
        {
          "name": "stdout",
          "output_type": "stream",
          "text": [
            "Nhập số nguyên a: 8\n",
            "Nhập số nguyên b: 3\n",
            "2.0\n"
          ]
        }
      ],
      "source": [
        "def tinh():\n",
        "    a = int(input(\"Nhập số nguyên a: \"))\n",
        "    b = int(input(\"Nhập số nguyên b: \"))\n",
        "    return a**(1/b)\n",
        "\n",
        "print(tinh())"
      ]
    },
    {
      "cell_type": "markdown",
      "metadata": {
        "id": "uTuoSX3QEiha"
      },
      "source": [
        "Câu 5"
      ]
    },
    {
      "cell_type": "code",
      "execution_count": null,
      "metadata": {
        "colab": {
          "base_uri": "https://localhost:8080/"
        },
        "id": "quuo4Ra3EpQL",
        "outputId": "1ac384c6-3b88-4b26-a752-ea17c8aad0f2"
      },
      "outputs": [
        {
          "name": "stdout",
          "output_type": "stream",
          "text": [
            "Nhập số nguyên X: 54556\n",
            "Số 54556 có 5 chữ số.\n",
            "Chữ số đầu tiên của 54556 là: 5\n"
          ]
        }
      ],
      "source": [
        "def dem_chu_so():\n",
        "    x = int(input(\"Nhập số nguyên X: \"))\n",
        "    flag = x\n",
        "    count = 0\n",
        "    while flag > 0:\n",
        "        count += 1\n",
        "        flag //= 10\n",
        "    print(f\"Số {x} có {count} chữ số.\")\n",
        "    flag = x\n",
        "    first_digit = flag // 10**(count - 1)\n",
        "    print(f\"Chữ số đầu tiên của {x} là: {first_digit}\")\n",
        "\n",
        "dem_chu_so()\n"
      ]
    },
    {
      "cell_type": "markdown",
      "metadata": {
        "id": "XmffN3N1Nezx"
      },
      "source": [
        "Phép toán 'if'"
      ]
    },
    {
      "cell_type": "code",
      "execution_count": null,
      "metadata": {
        "colab": {
          "base_uri": "https://localhost:8080/"
        },
        "id": "4CPM-wpYNfGh",
        "outputId": "62eb5c5d-0344-4664-a9e7-d5fc57339c36"
      },
      "outputs": [
        {
          "name": "stdout",
          "output_type": "stream",
          "text": [
            "Tin nhắn đã được gửi và người nhận đã đọc\n"
          ]
        }
      ],
      "source": [
        "def SMS(X):\n",
        "    if X == 0:\n",
        "        print(\"Tin nhắn chưa được gửi\")\n",
        "    elif X == 1:\n",
        "        print(\"Tin nhắn đã được gửi\")\n",
        "    elif X == 2:\n",
        "        print(\"Tin nhắn đã được gửi và người nhận đã đọc\")\n",
        "\n",
        "SMS(2)\n"
      ]
    },
    {
      "cell_type": "code",
      "execution_count": null,
      "metadata": {
        "colab": {
          "base_uri": "https://localhost:8080/"
        },
        "id": "j_kykuNfRhuC",
        "outputId": "5eeb9d32-7d7b-40d4-b68d-460a02378174"
      },
      "outputs": [
        {
          "name": "stdout",
          "output_type": "stream",
          "text": [
            "3.0\n"
          ]
        }
      ],
      "source": [
        "def average(num=5, sum=0):\n",
        "    if num == 0:\n",
        "        return 0\n",
        "    else:\n",
        "        return x + average(x - 1)\n",
        "\n",
        "print(average(5))\n"
      ]
    },
    {
      "cell_type": "code",
      "execution_count": null,
      "metadata": {
        "colab": {
          "base_uri": "https://localhost:8080/"
        },
        "id": "PYkBfqusRiPC",
        "outputId": "a67f5208-ea19-4b0e-901c-bb4bb07c8549"
      },
      "outputs": [
        {
          "name": "stdout",
          "output_type": "stream",
          "text": [
            "12.497499749949988\n"
          ]
        }
      ],
      "source": [
        "def area(a, b, c):\n",
        "    p = (a + b + c) / 2\n",
        "    return (p * (p - a) * (p - b) * (p - c)) ** 0.5\n",
        "\n",
        "print(area(5, 5, 7))"
      ]
    },
    {
      "cell_type": "code",
      "execution_count": null,
      "metadata": {
        "colab": {
          "base_uri": "https://localhost:8080/"
        },
        "id": "-R-oRIMbRiDa",
        "outputId": "0c62af6f-6f05-4d36-a0bf-ade7aa08a7f8"
      },
      "outputs": [
        {
          "name": "stdout",
          "output_type": "stream",
          "text": [
            "0.0\n"
          ]
        }
      ],
      "source": [
        "def area2(x, y):\n",
        "    a = ((x[1] - x[0])**2 + (y[1] - y[0])**2)**0.5\n",
        "    b = ((x[1] - x[2])**2 + (y[1] - y[2])**2)**0.5\n",
        "    c = ((x[2] - x[0])**2 + (y[2] - y[0])**2)**0.5\n",
        "    p = (a + b + c) / 2\n",
        "    return (p * (p - a) * (p - b) * (p - c)) ** 0.5\n",
        "\n",
        "x = [1, 3, 5]\n",
        "y = [5, 3, 1]\n",
        "print(area2(x, y))"
      ]
    }
  ],
  "metadata": {
    "colab": {
      "provenance": []
    },
    "kernelspec": {
      "display_name": "Python 3",
      "name": "python3"
    },
    "language_info": {
      "name": "python"
    }
  },
  "nbformat": 4,
  "nbformat_minor": 0
}
