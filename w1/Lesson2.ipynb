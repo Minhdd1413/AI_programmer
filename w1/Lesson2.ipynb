{
 "cells": [
  {
   "cell_type": "markdown",
   "metadata": {},
   "source": [
    "### Đào Đức Minh - 21010555"
   ]
  },
  {
   "cell_type": "markdown",
   "metadata": {},
   "source": [
    "#### Vòng lặp for"
   ]
  },
  {
   "cell_type": "markdown",
   "metadata": {},
   "source": [
    "Câu 1)"
   ]
  },
  {
   "cell_type": "code",
   "execution_count": 6,
   "metadata": {},
   "outputs": [],
   "source": [
    "def is_prime(N):\n",
    "    if N <= 1:\n",
    "        return False\n",
    "    for i in range(2, int(N**0.5) + 1):\n",
    "        if N % i == 0:\n",
    "            return False\n",
    "    return True"
   ]
  },
  {
   "cell_type": "code",
   "execution_count": 7,
   "metadata": {},
   "outputs": [
    {
     "data": {
      "text/plain": [
       "True"
      ]
     },
     "execution_count": 7,
     "metadata": {},
     "output_type": "execute_result"
    }
   ],
   "source": [
    "is_prime(37)"
   ]
  },
  {
   "cell_type": "markdown",
   "metadata": {},
   "source": [
    "Câu 2)"
   ]
  },
  {
   "cell_type": "code",
   "execution_count": 13,
   "metadata": {},
   "outputs": [],
   "source": [
    "def solve2():\n",
    "    A = int(input(\"Nhập số A: \"))\n",
    "    B = int(input(\"Nhập số B: \"))\n",
    "    if A > B:\n",
    "        print(\"A phải nhỏ hơn B\")\n",
    "        return None\n",
    "    print(f'[A, B] = [{A}, {B}]')\n",
    "    print(\"Các số nguyên tố trong khoảng [A, B] là:\")\n",
    "    for i in range(A, B + 1):\n",
    "        \n",
    "        if is_prime(i):\n",
    "            print(i)"
   ]
  },
  {
   "cell_type": "code",
   "execution_count": 14,
   "metadata": {},
   "outputs": [
    {
     "name": "stdout",
     "output_type": "stream",
     "text": [
      "[A, B] = [3, 45]\n",
      "Các số nguyên tố trong khoảng [A, B] là:\n",
      "3\n",
      "5\n",
      "7\n",
      "11\n",
      "13\n",
      "17\n",
      "19\n",
      "23\n",
      "29\n",
      "31\n",
      "37\n",
      "41\n",
      "43\n"
     ]
    }
   ],
   "source": [
    "solve2()"
   ]
  },
  {
   "cell_type": "markdown",
   "metadata": {},
   "source": [
    "Câu 3)"
   ]
  },
  {
   "cell_type": "code",
   "execution_count": 20,
   "metadata": {},
   "outputs": [],
   "source": [
    "import math\n",
    "\n",
    "def solve3():\n",
    "    A = int(input(\"Nhập số A: \"))\n",
    "    B = int(input(\"Nhập số B: \"))\n",
    "    gcd = math.gcd(A, B)\n",
    "    lcm = abs(A*B) // gcd\n",
    "    print(f'Ước số chung lớn nhất của {A} và {B} là: {gcd}')\n",
    "    print(f'Bội số chung nhỏ nhất của {A} và {B} là: {lcm}')"
   ]
  },
  {
   "cell_type": "code",
   "execution_count": 21,
   "metadata": {},
   "outputs": [
    {
     "name": "stdout",
     "output_type": "stream",
     "text": [
      "Ước số chung lớn nhất của 18 và 45 là: 9\n",
      "Bội số chung nhỏ nhất của 18 và 45 là: 90\n"
     ]
    }
   ],
   "source": [
    "solve3()"
   ]
  },
  {
   "cell_type": "markdown",
   "metadata": {},
   "source": [
    "Câu 4)"
   ]
  },
  {
   "cell_type": "code",
   "execution_count": 27,
   "metadata": {},
   "outputs": [],
   "source": [
    "def solve4():\n",
    "    numbers = []\n",
    "    while True:\n",
    "        try:\n",
    "            num = int(input(\"Nhập một số tự nhiên (nhập số âm hoặc 0 để kết thúc): \"))\n",
    "        except ValueError:\n",
    "            print(\"Số bạn nhập không hợp lệ!\")\n",
    "            continue\n",
    "        if num <= 0:\n",
    "            break\n",
    "        numbers.append(num)\n",
    "\n",
    "    if not numbers:\n",
    "        print(\"Không có số nào được nhập!\")\n",
    "        return\n",
    "\n",
    "    gcd = numbers[0]\n",
    "    lcm = numbers[0]\n",
    "    for num in numbers[1:]:\n",
    "        gcd = math.gcd(gcd, num)\n",
    "        lcm = abs(lcm*num) // math.gcd(lcm, num)\n",
    "\n",
    "    print(f'Ước số chung lớn nhất của các số vừa nhập là: {gcd}')\n",
    "    print(f'Bội số chung nhỏ nhất của các số vừa nhập là: {lcm}')"
   ]
  },
  {
   "cell_type": "code",
   "execution_count": 28,
   "metadata": {},
   "outputs": [
    {
     "name": "stdout",
     "output_type": "stream",
     "text": [
      "Số bạn nhập không hợp lệ!\n",
      "Ước số chung lớn nhất của các số vừa nhập là: 1\n",
      "Bội số chung nhỏ nhất của các số vừa nhập là: 108\n"
     ]
    }
   ],
   "source": [
    "solve4()"
   ]
  },
  {
   "cell_type": "markdown",
   "metadata": {},
   "source": [
    "Câu 5)"
   ]
  },
  {
   "cell_type": "code",
   "execution_count": 29,
   "metadata": {},
   "outputs": [],
   "source": [
    "def solve5():\n",
    "    numbers = []\n",
    "    while True:\n",
    "        try:\n",
    "            num = int(input(\"Nhập một số tự nhiên (nhập số 0 để kết thúc): \"))\n",
    "        except ValueError:\n",
    "            print(\"Số bạn nhập không hợp lệ!\")\n",
    "            continue\n",
    "        if num == 0:\n",
    "            break\n",
    "        numbers.append(num)\n",
    "\n",
    "    if not numbers:\n",
    "        print(\"Không có số nào được nhập!\")\n",
    "        return\n",
    "    \n",
    "    print('Giá trị nhỏ nhất ở dãy vừa nhập:', min(numbers))\n",
    "    print('Giá trị lớn nhất ở dãy vừa nhập:', max(numbers))"
   ]
  },
  {
   "cell_type": "code",
   "execution_count": 30,
   "metadata": {},
   "outputs": [
    {
     "name": "stdout",
     "output_type": "stream",
     "text": [
      "Giá trị nhỏ nhất ở dãy vừa nhập: -234\n",
      "Giá trị lớn nhất ở dãy vừa nhập: 564\n"
     ]
    }
   ],
   "source": [
    "solve5()"
   ]
  },
  {
   "cell_type": "markdown",
   "metadata": {},
   "source": [
    "#### Xử lý chuỗi"
   ]
  },
  {
   "cell_type": "markdown",
   "metadata": {},
   "source": [
    "Câu 1)"
   ]
  },
  {
   "cell_type": "code",
   "execution_count": 70,
   "metadata": {},
   "outputs": [],
   "source": [
    "def solve1():\n",
    "    str = input(\"Nhập chuỗi: \")\n",
    "    if str[-1:-4:-1] == '!!!':\n",
    "        return True\n",
    "    else:\n",
    "        while str[-1:-4:-1] != '!!!':\n",
    "            str += '!'\n",
    "        return str"
   ]
  },
  {
   "cell_type": "code",
   "execution_count": 72,
   "metadata": {},
   "outputs": [
    {
     "data": {
      "text/plain": [
       "'aslkdjl!!!'"
      ]
     },
     "execution_count": 72,
     "metadata": {},
     "output_type": "execute_result"
    }
   ],
   "source": [
    "solve1()"
   ]
  },
  {
   "cell_type": "markdown",
   "metadata": {},
   "source": [
    "Câu 2)"
   ]
  },
  {
   "cell_type": "code",
   "execution_count": 8,
   "metadata": {},
   "outputs": [],
   "source": [
    "def solve2():\n",
    "    arr = str(input(\"Nhập dãy số: \"))\n",
    "    arr = list(map(int, arr.split()))\n",
    "    print(arr)"
   ]
  },
  {
   "cell_type": "code",
   "execution_count": 9,
   "metadata": {},
   "outputs": [
    {
     "name": "stdout",
     "output_type": "stream",
     "text": [
      "[12, 13, 11]\n"
     ]
    }
   ],
   "source": [
    "solve2()"
   ]
  },
  {
   "cell_type": "markdown",
   "metadata": {},
   "source": [
    "Câu 3)"
   ]
  },
  {
   "cell_type": "code",
   "execution_count": 10,
   "metadata": {},
   "outputs": [],
   "source": [
    "def solve3():\n",
    "    name = input(\"Nhập tên: \").split()\n",
    "    print('Họ: ' + name[0])\n",
    "    print('Tên: ' + name[-1])"
   ]
  },
  {
   "cell_type": "code",
   "execution_count": 11,
   "metadata": {},
   "outputs": [
    {
     "name": "stdout",
     "output_type": "stream",
     "text": [
      "Họ: Đào\n",
      "Tên: Minh\n"
     ]
    }
   ],
   "source": [
    "solve3()"
   ]
  },
  {
   "cell_type": "markdown",
   "metadata": {},
   "source": [
    "Câu 4)"
   ]
  },
  {
   "cell_type": "code",
   "execution_count": 12,
   "metadata": {},
   "outputs": [],
   "source": [
    "def solve4():\n",
    "    str = input(\"Nhập chuỗi: \")\n",
    "    print(''.join([i for i in str if not i.isdigit()]))"
   ]
  },
  {
   "cell_type": "code",
   "execution_count": 13,
   "metadata": {},
   "outputs": [
    {
     "name": "stdout",
     "output_type": "stream",
     "text": [
      "kjasdhjhjkhkjkkkl\n"
     ]
    }
   ],
   "source": [
    "solve4()"
   ]
  },
  {
   "cell_type": "markdown",
   "metadata": {},
   "source": [
    "Câu 5)"
   ]
  },
  {
   "cell_type": "code",
   "execution_count": 17,
   "metadata": {},
   "outputs": [],
   "source": [
    "def solve5():\n",
    "    str = input(\"Nhập chuỗi: \").split()\n",
    "    max_length = []\n",
    "    temp = 0\n",
    "    for i in str:\n",
    "        if len(i) > temp:\n",
    "            temp = len(i)\n",
    "    for i in str:\n",
    "        if len(i) == temp:\n",
    "            max_length.append(i)\n",
    "    print(max_length)"
   ]
  },
  {
   "cell_type": "code",
   "execution_count": 18,
   "metadata": {},
   "outputs": [
    {
     "name": "stdout",
     "output_type": "stream",
     "text": [
      "['ajjs', 'lksk']\n"
     ]
    }
   ],
   "source": [
    "solve5()"
   ]
  },
  {
   "cell_type": "markdown",
   "metadata": {},
   "source": [
    "Câu 6)"
   ]
  },
  {
   "cell_type": "code",
   "execution_count": 24,
   "metadata": {},
   "outputs": [],
   "source": [
    "from collections import Counter\n",
    "from matplotlib import pyplot as plt\n",
    "\n",
    "def solve6():\n",
    "    str = input(\"Nhập chuỗi: \")\n",
    "    processed_str = Counter(str)\n",
    "    plt.bar(processed_str.keys(), processed_str.values())"
   ]
  },
  {
   "cell_type": "code",
   "execution_count": 25,
   "metadata": {},
   "outputs": [
    {
     "data": {
      "image/png": "[encoded data removed]",
      "text/plain": [
       "<Figure size 640x480 with 1 Axes>"
      ]
     },
     "metadata": {},
     "output_type": "display_data"
    }
   ],
   "source": [
    "solve6()"
   ]
  },
  {
   "cell_type": "markdown",
   "metadata": {},
   "source": [
    "Câu 7)"
   ]
  },
  {
   "cell_type": "code",
   "execution_count": 41,
   "metadata": {},
   "outputs": [],
   "source": [
    "def solve7():\n",
    "    str = input(\"Nhập chuỗi số: \").split()\n",
    "    arr, N = str\n",
    "    arr = list(map(int, arr))\n",
    "    N = int(N)\n",
    "    while N != 0:\n",
    "        arr.remove(min(arr))\n",
    "        N -= 1\n",
    "    # convert arr to number\n",
    "    str = ''\n",
    "    for i in arr:\n",
    "        str += f'{i}'\n",
    "    return int(str)"
   ]
  },
  {
   "cell_type": "code",
   "execution_count": 43,
   "metadata": {},
   "outputs": [
    {
     "data": {
      "text/plain": [
       "888877887999999999"
      ]
     },
     "execution_count": 43,
     "metadata": {},
     "output_type": "execute_result"
    }
   ],
   "source": [
    "solve7()"
   ]
  },
  {
   "cell_type": "markdown",
   "metadata": {},
   "source": [
    "Câu 8)"
   ]
  },
  {
   "cell_type": "code",
   "execution_count": 5,
   "metadata": {},
   "outputs": [],
   "source": [
    "def solve8():\n",
    "    str = input(\"Nhập chuỗi: \")\n",
    "    for i in str:\n",
    "        if i.isdigit():\n",
    "            str = str.replace(i, '?')\n",
    "    print(str)"
   ]
  },
  {
   "cell_type": "code",
   "execution_count": 6,
   "metadata": {},
   "outputs": [
    {
     "name": "stdout",
     "output_type": "stream",
     "text": [
      "asjdhkj??\n"
     ]
    }
   ],
   "source": [
    "solve8()"
   ]
  },
  {
   "cell_type": "markdown",
   "metadata": {},
   "source": [
    "Câu 9)"
   ]
  },
  {
   "cell_type": "code",
   "execution_count": 9,
   "metadata": {},
   "outputs": [],
   "source": [
    "def solve9():\n",
    "    str = input(\"Nhập chuỗi: \")\n",
    "    for idx, i in enumerate(str[-1::-1]):\n",
    "        if i != str[idx]:\n",
    "            return False\n",
    "    return True"
   ]
  },
  {
   "cell_type": "code",
   "execution_count": 12,
   "metadata": {},
   "outputs": [
    {
     "data": {
      "text/plain": [
       "False"
      ]
     },
     "execution_count": 12,
     "metadata": {},
     "output_type": "execute_result"
    }
   ],
   "source": [
    "solve9()"
   ]
  },
  {
   "cell_type": "markdown",
   "metadata": {},
   "source": [
    "#### List"
   ]
  },
  {
   "cell_type": "markdown",
   "metadata": {},
   "source": [
    "Câu 1)"
   ]
  },
  {
   "cell_type": "code",
   "execution_count": 8,
   "metadata": {},
   "outputs": [],
   "source": [
    "def solve1():\n",
    "    string = sorted(input(\"Nhập các từ: \").split())\n",
    "    for i in string:\n",
    "        print(i, end=' ')    "
   ]
  },
  {
   "cell_type": "code",
   "execution_count": 9,
   "metadata": {},
   "outputs": [
    {
     "name": "stdout",
     "output_type": "stream",
     "text": [
      "acbc kjk lcj skj "
     ]
    }
   ],
   "source": [
    "solve1()"
   ]
  },
  {
   "cell_type": "markdown",
   "metadata": {},
   "source": [
    "Câu 2)"
   ]
  },
  {
   "cell_type": "code",
   "execution_count": 10,
   "metadata": {},
   "outputs": [],
   "source": [
    "def solve2():\n",
    "    binary_num = input(\"Nhập các số: \").split(',')\n",
    "    for i in binary_num:\n",
    "        print(i, end=' ')"
   ]
  },
  {
   "cell_type": "code",
   "execution_count": 11,
   "metadata": {},
   "outputs": [
    {
     "name": "stdout",
     "output_type": "stream",
     "text": [
      "23 231 12 32 123 "
     ]
    }
   ],
   "source": [
    "solve2()"
   ]
  },
  {
   "cell_type": "markdown",
   "metadata": {},
   "source": [
    "Câu 3)"
   ]
  },
  {
   "cell_type": "code",
   "execution_count": null,
   "metadata": {},
   "outputs": [],
   "source": [
    "def solve3():\n",
    "    N = int(input('Nhập số N: '))\n",
    "    "
   ]
  },
  {
   "cell_type": "markdown",
   "metadata": {},
   "source": [
    "Câu 4)"
   ]
  },
  {
   "cell_type": "code",
   "execution_count": null,
   "metadata": {},
   "outputs": [],
   "source": []
  },
  {
   "cell_type": "markdown",
   "metadata": {},
   "source": [
    "Câu 5)"
   ]
  },
  {
   "cell_type": "code",
   "execution_count": null,
   "metadata": {},
   "outputs": [],
   "source": []
  },
  {
   "cell_type": "markdown",
   "metadata": {},
   "source": [
    "Câu 6)"
   ]
  },
  {
   "cell_type": "code",
   "execution_count": null,
   "metadata": {},
   "outputs": [],
   "source": []
  },
  {
   "cell_type": "markdown",
   "metadata": {},
   "source": [
    "Câu 7)"
   ]
  },
  {
   "cell_type": "code",
   "execution_count": null,
   "metadata": {},
   "outputs": [],
   "source": []
  }
 ],
 "metadata": {
  "kernelspec": {
   "display_name": "Python 3",
   "language": "python",
   "name": "python3"
  },
  "language_info": {
   "codemirror_mode": {
    "name": "ipython",
    "version": 3
   },
   "file_extension": ".py",
   "mimetype": "text/x-python",
   "name": "python",
   "nbconvert_exporter": "python",
   "pygments_lexer": "ipython3",
   "version": "3.7.2"
  }
 },
 "nbformat": 4,
 "nbformat_minor": 2
}
