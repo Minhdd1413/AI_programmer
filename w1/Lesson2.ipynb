{
 "cells": [
  {
   "cell_type": "markdown",
   "metadata": {},
   "source": [
    "Câu 1)"
   ]
  },
  {
   "cell_type": "code",
   "execution_count": 6,
   "metadata": {},
   "outputs": [],
   "source": [
    "def is_prime(N):\n",
    "    if N <= 1:\n",
    "        return False\n",
    "    for i in range(2, int(N**0.5) + 1):\n",
    "        if N % i == 0:\n",
    "            return False\n",
    "    return True"
   ]
  },
  {
   "cell_type": "code",
   "execution_count": 7,
   "metadata": {},
   "outputs": [
    {
     "data": {
      "text/plain": [
       "True"
      ]
     },
     "execution_count": 7,
     "metadata": {},
     "output_type": "execute_result"
    }
   ],
   "source": [
    "is_prime(37)"
   ]
  },
  {
   "cell_type": "markdown",
   "metadata": {},
   "source": [
    "Câu 2)"
   ]
  },
  {
   "cell_type": "code",
   "execution_count": 13,
   "metadata": {},
   "outputs": [],
   "source": [
    "def solve2():\n",
    "    A = int(input(\"Nhập số A: \"))\n",
    "    B = int(input(\"Nhập số B: \"))\n",
    "    if A > B:\n",
    "        print(\"A phải nhỏ hơn B\")\n",
    "        return None\n",
    "    print(f'[A, B] = [{A}, {B}]')\n",
    "    print(\"Các số nguyên tố trong khoảng [A, B] là:\")\n",
    "    for i in range(A, B + 1):\n",
    "        \n",
    "        if is_prime(i):\n",
    "            print(i)"
   ]
  },
  {
   "cell_type": "code",
   "execution_count": 14,
   "metadata": {},
   "outputs": [
    {
     "name": "stdout",
     "output_type": "stream",
     "text": [
      "[A, B] = [3, 45]\n",
      "Các số nguyên tố trong khoảng [A, B] là:\n",
      "3\n",
      "5\n",
      "7\n",
      "11\n",
      "13\n",
      "17\n",
      "19\n",
      "23\n",
      "29\n",
      "31\n",
      "37\n",
      "41\n",
      "43\n"
     ]
    }
   ],
   "source": [
    "solve2()"
   ]
  },
  {
   "cell_type": "markdown",
   "metadata": {},
   "source": [
    "Câu 3)"
   ]
  },
  {
   "cell_type": "code",
   "execution_count": 20,
   "metadata": {},
   "outputs": [],
   "source": [
    "import math\n",
    "\n",
    "def solve3():\n",
    "    A = int(input(\"Nhập số A: \"))\n",
    "    B = int(input(\"Nhập số B: \"))\n",
    "    gcd = math.gcd(A, B)\n",
    "    lcm = abs(A*B) // gcd\n",
    "    print(f'Ước số chung lớn nhất của {A} và {B} là: {gcd}')\n",
    "    print(f'Bội số chung nhỏ nhất của {A} và {B} là: {lcm}')"
   ]
  },
  {
   "cell_type": "code",
   "execution_count": 21,
   "metadata": {},
   "outputs": [
    {
     "name": "stdout",
     "output_type": "stream",
     "text": [
      "Ước số chung lớn nhất của 18 và 45 là: 9\n",
      "Bội số chung nhỏ nhất của 18 và 45 là: 90\n"
     ]
    }
   ],
   "source": [
    "solve3()"
   ]
  },
  {
   "cell_type": "markdown",
   "metadata": {},
   "source": [
    "Câu 4)"
   ]
  },
  {
   "cell_type": "code",
   "execution_count": 27,
   "metadata": {},
   "outputs": [],
   "source": [
    "def solve4():\n",
    "    numbers = []\n",
    "    while True:\n",
    "        try:\n",
    "            num = int(input(\"Nhập một số tự nhiên (nhập số âm hoặc 0 để kết thúc): \"))\n",
    "        except ValueError:\n",
    "            print(\"Số bạn nhập không hợp lệ!\")\n",
    "            continue\n",
    "        if num <= 0:\n",
    "            break\n",
    "        numbers.append(num)\n",
    "\n",
    "    if not numbers:\n",
    "        print(\"Không có số nào được nhập!\")\n",
    "        return\n",
    "\n",
    "    gcd = numbers[0]\n",
    "    lcm = numbers[0]\n",
    "    for num in numbers[1:]:\n",
    "        gcd = math.gcd(gcd, num)\n",
    "        lcm = abs(lcm*num) // math.gcd(lcm, num)\n",
    "\n",
    "    print(f'Ước số chung lớn nhất của các số vừa nhập là: {gcd}')\n",
    "    print(f'Bội số chung nhỏ nhất của các số vừa nhập là: {lcm}')"
   ]
  },
  {
   "cell_type": "code",
   "execution_count": 28,
   "metadata": {},
   "outputs": [
    {
     "name": "stdout",
     "output_type": "stream",
     "text": [
      "Số bạn nhập không hợp lệ!\n",
      "Ước số chung lớn nhất của các số vừa nhập là: 1\n",
      "Bội số chung nhỏ nhất của các số vừa nhập là: 108\n"
     ]
    }
   ],
   "source": [
    "solve4()"
   ]
  },
  {
   "cell_type": "markdown",
   "metadata": {},
   "source": [
    "Câu 5)"
   ]
  },
  {
   "cell_type": "code",
   "execution_count": 29,
   "metadata": {},
   "outputs": [],
   "source": [
    "def solve5():\n",
    "    numbers = []\n",
    "    while True:\n",
    "        try:\n",
    "            num = int(input(\"Nhập một số tự nhiên (nhập số 0 để kết thúc): \"))\n",
    "        except ValueError:\n",
    "            print(\"Số bạn nhập không hợp lệ!\")\n",
    "            continue\n",
    "        if num == 0:\n",
    "            break\n",
    "        numbers.append(num)\n",
    "\n",
    "    if not numbers:\n",
    "        print(\"Không có số nào được nhập!\")\n",
    "        return\n",
    "    \n",
    "    print('Giá trị nhỏ nhất ở dãy vừa nhập:', min(numbers))\n",
    "    print('Giá trị lớn nhất ở dãy vừa nhập:', max(numbers))"
   ]
  },
  {
   "cell_type": "code",
   "execution_count": 30,
   "metadata": {},
   "outputs": [
    {
     "name": "stdout",
     "output_type": "stream",
     "text": [
      "Giá trị nhỏ nhất ở dãy vừa nhập: -234\n",
      "Giá trị lớn nhất ở dãy vừa nhập: 564\n"
     ]
    }
   ],
   "source": [
    "solve5()"
   ]
  }
 ],
 "metadata": {
  "kernelspec": {
   "display_name": "Python 3",
   "language": "python",
   "name": "python3"
  },
  "language_info": {
   "codemirror_mode": {
    "name": "ipython",
    "version": 3
   },
   "file_extension": ".py",
   "mimetype": "text/x-python",
   "name": "python",
   "nbconvert_exporter": "python",
   "pygments_lexer": "ipython3",
   "version": "3.9.0"
  }
 },
 "nbformat": 4,
 "nbformat_minor": 2
}
